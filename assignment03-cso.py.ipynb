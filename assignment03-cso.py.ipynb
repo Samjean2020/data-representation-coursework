{
 "cells": [
  {
   "cell_type": "markdown",
   "id": "337dd361",
   "metadata": {},
   "source": [
    "## Data Representation 23-24\n",
    "#### Assignment 03 Monday, 16 October 2023\n",
    "### by\n",
    "#### Jean-Samuel Bonsenge-Bokanga"
   ]
  },
  {
   "cell_type": "markdown",
   "id": "a14cd611",
   "metadata": {},
   "source": [
    "### Instructions"
   ]
  },
  {
   "cell_type": "markdown",
   "id": "15cada29",
   "metadata": {},
   "source": [
    "Write a program that retrieves the dataset for the \"exchequer account(historical series)\" from the CSO, and stores it into a file called \"cso.json\".\n",
    "Upload this program to the same repository you used from the XML assignment\n",
    "Save this assignment as \"assignmnet03-cs0.py\"."
   ]
  },
  {
   "cell_type": "markdown",
   "id": "6f1dcff5",
   "metadata": {},
   "source": [
    "### Imports and Method"
   ]
  },
  {
   "cell_type": "code",
   "execution_count": null,
   "id": "264e9258",
   "metadata": {},
   "outputs": [],
   "source": [
    "import json\n",
    "import requests\n",
    "url = \"https://ws.cso.ie/public/api.jsonrpc?data=%7B%22jsonrpc%22:%222.0%22,%22method%22:%22PxStat.Data.Cube_API.ReadDataset%22,%22params%22:%7B%22class%22:%22query%22,%22id%22:%5B%5D,%22dimension%22:%7B%7D,%22extension%22:%7B%22pivot%22:null,%22codes%22:false,%22language%22:%7B%22code%22:%22en%22%7D,%22format%22:%7B%22type%22:%22JSON-stat%22,%22version%22:%222.0%22%7D,%22matrix%22:%22FIQ02%22%7D,%22version%22:%222.0%22%7D%7D\"\n",
    "response = requests.get(url)\n",
    "print(response.json())"
   ]
  },
  {
   "cell_type": "markdown",
   "id": "f1b2ac21",
   "metadata": {},
   "source": [
    "### End"
   ]
  }
 ],
 "metadata": {
  "kernelspec": {
   "display_name": "Python 3",
   "language": "python",
   "name": "python3"
  },
  "language_info": {
   "codemirror_mode": {
    "name": "ipython",
    "version": 3
   },
   "file_extension": ".py",
   "mimetype": "text/x-python",
   "name": "python",
   "nbconvert_exporter": "python",
   "pygments_lexer": "ipython3",
   "version": "3.8.8"
  }
 },
 "nbformat": 4,
 "nbformat_minor": 5
}
