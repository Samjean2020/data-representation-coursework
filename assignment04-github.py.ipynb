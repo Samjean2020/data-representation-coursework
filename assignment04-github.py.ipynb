{
 "cells": [
  {
   "cell_type": "markdown",
   "id": "d516ee54",
   "metadata": {},
   "source": [
    "## Data Representation 23-24"
   ]
  },
  {
   "cell_type": "markdown",
   "id": "578c2707",
   "metadata": {},
   "source": [
    "## Jean-Samuel Bonsenge-Bokanga"
   ]
  },
  {
   "cell_type": "markdown",
   "id": "765c4fb2",
   "metadata": {},
   "source": [
    "## Assignment 04 "
   ]
  },
  {
   "cell_type": "markdown",
   "id": "c8852acd",
   "metadata": {},
   "source": [
    "### Instructions "
   ]
  },
  {
   "cell_type": "markdown",
   "id": "0af655fa",
   "metadata": {},
   "source": [
    "Write a program in python that will read a file from a repository,\n",
    "\n",
    "The program should then replace all the instances of the text \"Andrew\" with your name\n",
    "\n",
    "The program should then commit those changes and push the file back to the repository.\n",
    "\n",
    "I do not need to see your keys (see lab2, to follow)\n",
    "\n",
    "Handup: Save the program as assignment04-github.py to the same repository you uploaded the xml to\n",
    "\n",
    "Marks: Marks will be given for the functionality and layout of the code; I do expect minimal comments to indicate you know what the program is doing."
   ]
  },
  {
   "cell_type": "markdown",
   "id": "ec313f90",
   "metadata": {},
   "source": [
    "### Import relevant packages, protocole, resource and methods"
   ]
  },
  {
   "cell_type": "code",
   "execution_count": null,
   "id": "9c0d0305",
   "metadata": {},
   "outputs": [],
   "source": [
    "# Read a file from a repo.\n",
    "import requests\n",
    "# Represent structured data based on JavaScript Object Notation(JSON)syntax.\n",
    "import json\n",
    "\n",
    "# The Uniform Resource Locator (URL) to get information from.\n",
    "url = \"https://api.github.com/repos/andrewbeattycourseware/datarepresentation/contents\"\n",
    "# The text in which the instances of the string \"Andrew\" will be replaced with my name (\"Jean-Samuel\").\n",
    "text = \"Andrew is the Lecturer of Data Representation for Data Analytics at ATU, Andrew is a programmer with a tract records of experience, Andrew is the Chair of Data Analytics Programme at ATU, Andrew has a range of repositories on GitHub.com, url: https://api.github.com/repos/andrewbeattycourseware/datarepresentation/contents/README.md?ref=main\"\n",
    "# The replace() method from the Python package.\n",
    "replace = text.replace(\"Andrew\", \"Jean-Samuel\")\n",
    "# Execute the replace() function.\n",
    "print(replace)\n",
    "# Response to get from the request made including the text.\n",
    "response = requests.get(url, text)\n",
    "\n",
    "# Condition to be met.\n",
    "if response.status_code == 200:\n",
    "    # Execute the script if the condition is met.\n",
    "    print(response.text)  \n",
    "    \n",
    "# Otherwise return the https response status-code.\n",
    "else:\n",
    "    # Display the status-code.\n",
    "    print(f\"Error:{response.status_code}\")"
   ]
  },
  {
   "cell_type": "markdown",
   "id": "59778594",
   "metadata": {},
   "source": [
    "# End"
   ]
  }
 ],
 "metadata": {
  "kernelspec": {
   "display_name": "Python 3",
   "language": "python",
   "name": "python3"
  },
  "language_info": {
   "codemirror_mode": {
    "name": "ipython",
    "version": 3
   },
   "file_extension": ".py",
   "mimetype": "text/x-python",
   "name": "python",
   "nbconvert_exporter": "python",
   "pygments_lexer": "ipython3",
   "version": "3.8.8"
  }
 },
 "nbformat": 4,
 "nbformat_minor": 5
}
